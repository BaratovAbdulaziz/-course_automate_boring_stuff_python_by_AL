{
 "cells": [
  {
   "cell_type": "markdown",
   "id": "7a5c9020",
   "metadata": {},
   "source": [
    "# Flow-control\n",
    "\n",
    "## condition control "
   ]
  },
  {
   "cell_type": "markdown",
   "id": "7018e88d",
   "metadata": {},
   "source": []
  }
 ],
 "metadata": {
  "language_info": {
   "name": "python"
  }
 },
 "nbformat": 4,
 "nbformat_minor": 5
}
